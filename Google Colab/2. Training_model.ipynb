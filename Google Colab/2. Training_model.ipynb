{
  "nbformat": 4,
  "nbformat_minor": 0,
  "metadata": {
    "colab": {
      "provenance": []
    },
    "kernelspec": {
      "name": "python3",
      "display_name": "Python 3"
    },
    "language_info": {
      "name": "python"
    }
  },
  "cells": [
    {
      "cell_type": "code",
      "source": [
        "# Mount GDRIVE\n",
        "from google.colab import drive\n",
        "drive.mount('/content/drive')\n",
        "\n",
        "PATH = '/content/drive/MyDrive/'"
      ],
      "metadata": {
        "colab": {
          "base_uri": "https://localhost:8080/"
        },
        "id": "QtX0EzJX6EU5",
        "outputId": "48c416c7-03cf-4919-fde0-f4f96e4a401e"
      },
      "execution_count": 1,
      "outputs": [
        {
          "output_type": "stream",
          "name": "stdout",
          "text": [
            "Mounted at /content/drive\n"
          ]
        }
      ]
    },
    {
      "cell_type": "markdown",
      "source": [
        "## Klasifikasi"
      ],
      "metadata": {
        "id": "FDEvBMHIvslr"
      }
    },
    {
      "cell_type": "code",
      "execution_count": 2,
      "metadata": {
        "id": "n8X3zdcPnIdv"
      },
      "outputs": [],
      "source": [
        "# Import packages\n",
        "import pandas as pd\n",
        "import numpy as np\n",
        "import matplotlib\n",
        "import matplotlib.pyplot as plt\n",
        "import seaborn as sns\n",
        "from sklearn.preprocessing import LabelEncoder\n",
        "from sklearn.model_selection import train_test_split\n",
        "import tensorflow as tf\n",
        "from tensorflow.keras.utils import to_categorical\n",
        "from tensorflow.keras.models import Sequential, load_model\n",
        "from tensorflow.keras.layers import Conv1D, MaxPooling1D, Dense, Dropout, Flatten, Input, GlobalMaxPooling1D\n",
        "from tensorflow.keras.callbacks import EarlyStopping, ModelCheckpoint\n",
        "from tensorflow.keras import Model\n",
        "from sklearn.metrics import accuracy_score, confusion_matrix, precision_score, recall_score, f1_score\n",
        "np.random.seed(123)\n",
        "tf.random.set_seed(123)\n",
        "tf.keras.utils.set_random_seed(123)"
      ]
    },
    {
      "cell_type": "code",
      "source": [
        "# Parameter\n",
        "CLASSES     = ['Air', 'Lahan Terbangun', 'Vegetasi']\n",
        "N_CLASSES   = len(CLASSES)\n",
        "PALETTE     = ['#F08080', '#D2B48C', '#87CEFA']"
      ],
      "metadata": {
        "id": "2zkbZKpWoSML"
      },
      "execution_count": 3,
      "outputs": []
    },
    {
      "cell_type": "markdown",
      "source": [
        "### Preprocessing"
      ],
      "metadata": {
        "id": "guCigMcCwvnZ"
      }
    },
    {
      "cell_type": "code",
      "source": [
        "df = pd.read_csv(PATH + 'data.csv')\n",
        "df"
      ],
      "metadata": {
        "colab": {
          "base_uri": "https://localhost:8080/",
          "height": 424
        },
        "id": "AtqfLETXOsaW",
        "outputId": "16d2b68c-2a3f-4480-d8d1-85c093247ac3"
      },
      "execution_count": 4,
      "outputs": [
        {
          "output_type": "execute_result",
          "data": {
            "text/plain": [
              "            B4        B8     label\n",
              "0     0.574496  0.579164       Air\n",
              "1     0.704630  0.713966       Air\n",
              "2     0.603622  0.641897       Air\n",
              "3     0.538835  0.542569       Air\n",
              "4     0.614824  0.638350       Air\n",
              "...        ...       ...       ...\n",
              "6631  0.413294  0.259094  Vegetasi\n",
              "6632  0.462844  0.296450  Vegetasi\n",
              "6633  0.420891  0.259971  Vegetasi\n",
              "6634  0.422790  0.264080  Vegetasi\n",
              "6635  0.436377  0.287582  Vegetasi\n",
              "\n",
              "[6636 rows x 3 columns]"
            ],
            "text/html": [
              "\n",
              "  <div id=\"df-392a9ea3-228d-423d-999e-12d25caed4e6\" class=\"colab-df-container\">\n",
              "    <div>\n",
              "<style scoped>\n",
              "    .dataframe tbody tr th:only-of-type {\n",
              "        vertical-align: middle;\n",
              "    }\n",
              "\n",
              "    .dataframe tbody tr th {\n",
              "        vertical-align: top;\n",
              "    }\n",
              "\n",
              "    .dataframe thead th {\n",
              "        text-align: right;\n",
              "    }\n",
              "</style>\n",
              "<table border=\"1\" class=\"dataframe\">\n",
              "  <thead>\n",
              "    <tr style=\"text-align: right;\">\n",
              "      <th></th>\n",
              "      <th>B4</th>\n",
              "      <th>B8</th>\n",
              "      <th>label</th>\n",
              "    </tr>\n",
              "  </thead>\n",
              "  <tbody>\n",
              "    <tr>\n",
              "      <th>0</th>\n",
              "      <td>0.574496</td>\n",
              "      <td>0.579164</td>\n",
              "      <td>Air</td>\n",
              "    </tr>\n",
              "    <tr>\n",
              "      <th>1</th>\n",
              "      <td>0.704630</td>\n",
              "      <td>0.713966</td>\n",
              "      <td>Air</td>\n",
              "    </tr>\n",
              "    <tr>\n",
              "      <th>2</th>\n",
              "      <td>0.603622</td>\n",
              "      <td>0.641897</td>\n",
              "      <td>Air</td>\n",
              "    </tr>\n",
              "    <tr>\n",
              "      <th>3</th>\n",
              "      <td>0.538835</td>\n",
              "      <td>0.542569</td>\n",
              "      <td>Air</td>\n",
              "    </tr>\n",
              "    <tr>\n",
              "      <th>4</th>\n",
              "      <td>0.614824</td>\n",
              "      <td>0.638350</td>\n",
              "      <td>Air</td>\n",
              "    </tr>\n",
              "    <tr>\n",
              "      <th>...</th>\n",
              "      <td>...</td>\n",
              "      <td>...</td>\n",
              "      <td>...</td>\n",
              "    </tr>\n",
              "    <tr>\n",
              "      <th>6631</th>\n",
              "      <td>0.413294</td>\n",
              "      <td>0.259094</td>\n",
              "      <td>Vegetasi</td>\n",
              "    </tr>\n",
              "    <tr>\n",
              "      <th>6632</th>\n",
              "      <td>0.462844</td>\n",
              "      <td>0.296450</td>\n",
              "      <td>Vegetasi</td>\n",
              "    </tr>\n",
              "    <tr>\n",
              "      <th>6633</th>\n",
              "      <td>0.420891</td>\n",
              "      <td>0.259971</td>\n",
              "      <td>Vegetasi</td>\n",
              "    </tr>\n",
              "    <tr>\n",
              "      <th>6634</th>\n",
              "      <td>0.422790</td>\n",
              "      <td>0.264080</td>\n",
              "      <td>Vegetasi</td>\n",
              "    </tr>\n",
              "    <tr>\n",
              "      <th>6635</th>\n",
              "      <td>0.436377</td>\n",
              "      <td>0.287582</td>\n",
              "      <td>Vegetasi</td>\n",
              "    </tr>\n",
              "  </tbody>\n",
              "</table>\n",
              "<p>6636 rows × 3 columns</p>\n",
              "</div>\n",
              "    <div class=\"colab-df-buttons\">\n",
              "\n",
              "  <div class=\"colab-df-container\">\n",
              "    <button class=\"colab-df-convert\" onclick=\"convertToInteractive('df-392a9ea3-228d-423d-999e-12d25caed4e6')\"\n",
              "            title=\"Convert this dataframe to an interactive table.\"\n",
              "            style=\"display:none;\">\n",
              "\n",
              "  <svg xmlns=\"http://www.w3.org/2000/svg\" height=\"24px\" viewBox=\"0 -960 960 960\">\n",
              "    <path d=\"M120-120v-720h720v720H120Zm60-500h600v-160H180v160Zm220 220h160v-160H400v160Zm0 220h160v-160H400v160ZM180-400h160v-160H180v160Zm440 0h160v-160H620v160ZM180-180h160v-160H180v160Zm440 0h160v-160H620v160Z\"/>\n",
              "  </svg>\n",
              "    </button>\n",
              "\n",
              "  <style>\n",
              "    .colab-df-container {\n",
              "      display:flex;\n",
              "      gap: 12px;\n",
              "    }\n",
              "\n",
              "    .colab-df-convert {\n",
              "      background-color: #E8F0FE;\n",
              "      border: none;\n",
              "      border-radius: 50%;\n",
              "      cursor: pointer;\n",
              "      display: none;\n",
              "      fill: #1967D2;\n",
              "      height: 32px;\n",
              "      padding: 0 0 0 0;\n",
              "      width: 32px;\n",
              "    }\n",
              "\n",
              "    .colab-df-convert:hover {\n",
              "      background-color: #E2EBFA;\n",
              "      box-shadow: 0px 1px 2px rgba(60, 64, 67, 0.3), 0px 1px 3px 1px rgba(60, 64, 67, 0.15);\n",
              "      fill: #174EA6;\n",
              "    }\n",
              "\n",
              "    .colab-df-buttons div {\n",
              "      margin-bottom: 4px;\n",
              "    }\n",
              "\n",
              "    [theme=dark] .colab-df-convert {\n",
              "      background-color: #3B4455;\n",
              "      fill: #D2E3FC;\n",
              "    }\n",
              "\n",
              "    [theme=dark] .colab-df-convert:hover {\n",
              "      background-color: #434B5C;\n",
              "      box-shadow: 0px 1px 3px 1px rgba(0, 0, 0, 0.15);\n",
              "      filter: drop-shadow(0px 1px 2px rgba(0, 0, 0, 0.3));\n",
              "      fill: #FFFFFF;\n",
              "    }\n",
              "  </style>\n",
              "\n",
              "    <script>\n",
              "      const buttonEl =\n",
              "        document.querySelector('#df-392a9ea3-228d-423d-999e-12d25caed4e6 button.colab-df-convert');\n",
              "      buttonEl.style.display =\n",
              "        google.colab.kernel.accessAllowed ? 'block' : 'none';\n",
              "\n",
              "      async function convertToInteractive(key) {\n",
              "        const element = document.querySelector('#df-392a9ea3-228d-423d-999e-12d25caed4e6');\n",
              "        const dataTable =\n",
              "          await google.colab.kernel.invokeFunction('convertToInteractive',\n",
              "                                                    [key], {});\n",
              "        if (!dataTable) return;\n",
              "\n",
              "        const docLinkHtml = 'Like what you see? Visit the ' +\n",
              "          '<a target=\"_blank\" href=https://colab.research.google.com/notebooks/data_table.ipynb>data table notebook</a>'\n",
              "          + ' to learn more about interactive tables.';\n",
              "        element.innerHTML = '';\n",
              "        dataTable['output_type'] = 'display_data';\n",
              "        await google.colab.output.renderOutput(dataTable, element);\n",
              "        const docLink = document.createElement('div');\n",
              "        docLink.innerHTML = docLinkHtml;\n",
              "        element.appendChild(docLink);\n",
              "      }\n",
              "    </script>\n",
              "  </div>\n",
              "\n",
              "\n",
              "<div id=\"df-0bed5908-4f18-47fc-9e98-589c6d6637a8\">\n",
              "  <button class=\"colab-df-quickchart\" onclick=\"quickchart('df-0bed5908-4f18-47fc-9e98-589c6d6637a8')\"\n",
              "            title=\"Suggest charts\"\n",
              "            style=\"display:none;\">\n",
              "\n",
              "<svg xmlns=\"http://www.w3.org/2000/svg\" height=\"24px\"viewBox=\"0 0 24 24\"\n",
              "     width=\"24px\">\n",
              "    <g>\n",
              "        <path d=\"M19 3H5c-1.1 0-2 .9-2 2v14c0 1.1.9 2 2 2h14c1.1 0 2-.9 2-2V5c0-1.1-.9-2-2-2zM9 17H7v-7h2v7zm4 0h-2V7h2v10zm4 0h-2v-4h2v4z\"/>\n",
              "    </g>\n",
              "</svg>\n",
              "  </button>\n",
              "\n",
              "<style>\n",
              "  .colab-df-quickchart {\n",
              "      --bg-color: #E8F0FE;\n",
              "      --fill-color: #1967D2;\n",
              "      --hover-bg-color: #E2EBFA;\n",
              "      --hover-fill-color: #174EA6;\n",
              "      --disabled-fill-color: #AAA;\n",
              "      --disabled-bg-color: #DDD;\n",
              "  }\n",
              "\n",
              "  [theme=dark] .colab-df-quickchart {\n",
              "      --bg-color: #3B4455;\n",
              "      --fill-color: #D2E3FC;\n",
              "      --hover-bg-color: #434B5C;\n",
              "      --hover-fill-color: #FFFFFF;\n",
              "      --disabled-bg-color: #3B4455;\n",
              "      --disabled-fill-color: #666;\n",
              "  }\n",
              "\n",
              "  .colab-df-quickchart {\n",
              "    background-color: var(--bg-color);\n",
              "    border: none;\n",
              "    border-radius: 50%;\n",
              "    cursor: pointer;\n",
              "    display: none;\n",
              "    fill: var(--fill-color);\n",
              "    height: 32px;\n",
              "    padding: 0;\n",
              "    width: 32px;\n",
              "  }\n",
              "\n",
              "  .colab-df-quickchart:hover {\n",
              "    background-color: var(--hover-bg-color);\n",
              "    box-shadow: 0 1px 2px rgba(60, 64, 67, 0.3), 0 1px 3px 1px rgba(60, 64, 67, 0.15);\n",
              "    fill: var(--button-hover-fill-color);\n",
              "  }\n",
              "\n",
              "  .colab-df-quickchart-complete:disabled,\n",
              "  .colab-df-quickchart-complete:disabled:hover {\n",
              "    background-color: var(--disabled-bg-color);\n",
              "    fill: var(--disabled-fill-color);\n",
              "    box-shadow: none;\n",
              "  }\n",
              "\n",
              "  .colab-df-spinner {\n",
              "    border: 2px solid var(--fill-color);\n",
              "    border-color: transparent;\n",
              "    border-bottom-color: var(--fill-color);\n",
              "    animation:\n",
              "      spin 1s steps(1) infinite;\n",
              "  }\n",
              "\n",
              "  @keyframes spin {\n",
              "    0% {\n",
              "      border-color: transparent;\n",
              "      border-bottom-color: var(--fill-color);\n",
              "      border-left-color: var(--fill-color);\n",
              "    }\n",
              "    20% {\n",
              "      border-color: transparent;\n",
              "      border-left-color: var(--fill-color);\n",
              "      border-top-color: var(--fill-color);\n",
              "    }\n",
              "    30% {\n",
              "      border-color: transparent;\n",
              "      border-left-color: var(--fill-color);\n",
              "      border-top-color: var(--fill-color);\n",
              "      border-right-color: var(--fill-color);\n",
              "    }\n",
              "    40% {\n",
              "      border-color: transparent;\n",
              "      border-right-color: var(--fill-color);\n",
              "      border-top-color: var(--fill-color);\n",
              "    }\n",
              "    60% {\n",
              "      border-color: transparent;\n",
              "      border-right-color: var(--fill-color);\n",
              "    }\n",
              "    80% {\n",
              "      border-color: transparent;\n",
              "      border-right-color: var(--fill-color);\n",
              "      border-bottom-color: var(--fill-color);\n",
              "    }\n",
              "    90% {\n",
              "      border-color: transparent;\n",
              "      border-bottom-color: var(--fill-color);\n",
              "    }\n",
              "  }\n",
              "</style>\n",
              "\n",
              "  <script>\n",
              "    async function quickchart(key) {\n",
              "      const quickchartButtonEl =\n",
              "        document.querySelector('#' + key + ' button');\n",
              "      quickchartButtonEl.disabled = true;  // To prevent multiple clicks.\n",
              "      quickchartButtonEl.classList.add('colab-df-spinner');\n",
              "      try {\n",
              "        const charts = await google.colab.kernel.invokeFunction(\n",
              "            'suggestCharts', [key], {});\n",
              "      } catch (error) {\n",
              "        console.error('Error during call to suggestCharts:', error);\n",
              "      }\n",
              "      quickchartButtonEl.classList.remove('colab-df-spinner');\n",
              "      quickchartButtonEl.classList.add('colab-df-quickchart-complete');\n",
              "    }\n",
              "    (() => {\n",
              "      let quickchartButtonEl =\n",
              "        document.querySelector('#df-0bed5908-4f18-47fc-9e98-589c6d6637a8 button');\n",
              "      quickchartButtonEl.style.display =\n",
              "        google.colab.kernel.accessAllowed ? 'block' : 'none';\n",
              "    })();\n",
              "  </script>\n",
              "</div>\n",
              "    </div>\n",
              "  </div>\n"
            ],
            "application/vnd.google.colaboratory.intrinsic+json": {
              "type": "dataframe",
              "variable_name": "df",
              "summary": "{\n  \"name\": \"df\",\n  \"rows\": 6636,\n  \"fields\": [\n    {\n      \"column\": \"B4\",\n      \"properties\": {\n        \"dtype\": \"number\",\n        \"std\": 0.14353109890476393,\n        \"min\": 0.2767612722224491,\n        \"max\": 0.9751680358476476,\n        \"num_unique_values\": 4636,\n        \"samples\": [\n          0.3041822164249206,\n          0.5037341299477222,\n          0.4835646457268079\n        ],\n        \"semantic_type\": \"\",\n        \"description\": \"\"\n      }\n    },\n    {\n      \"column\": \"B8\",\n      \"properties\": {\n        \"dtype\": \"number\",\n        \"std\": 0.19941589733551834,\n        \"min\": 0.0989171000360285,\n        \"max\": 1.0,\n        \"num_unique_values\": 4982,\n        \"samples\": [\n          0.5428491411501121,\n          0.2666666726111669,\n          0.2738050784167289\n        ],\n        \"semantic_type\": \"\",\n        \"description\": \"\"\n      }\n    },\n    {\n      \"column\": \"label\",\n      \"properties\": {\n        \"dtype\": \"category\",\n        \"num_unique_values\": 3,\n        \"samples\": [\n          \"Air\",\n          \"Lahan Bangunan\",\n          \"Vegetasi\"\n        ],\n        \"semantic_type\": \"\",\n        \"description\": \"\"\n      }\n    }\n  ]\n}"
            }
          },
          "metadata": {},
          "execution_count": 4
        }
      ]
    },
    {
      "cell_type": "code",
      "source": [
        "# Split data\n",
        "X = df[['B4', 'B8']] # menggunakan B4 dan B8\n",
        "y = df['label']\n",
        "\n",
        "X_train, X_test, y_train, y_test = train_test_split(X, y, test_size=0.2, random_state=42)"
      ],
      "metadata": {
        "id": "PQ_M41Sx-INh"
      },
      "execution_count": 5,
      "outputs": []
    },
    {
      "cell_type": "code",
      "source": [
        "# Label encoder\n",
        "le = LabelEncoder()\n",
        "le.fit(y_train)\n",
        "\n",
        "y_train = le.fit_transform(y_train)\n",
        "y_test  = le.fit_transform(y_test)"
      ],
      "metadata": {
        "id": "0YFvaFJexmqp"
      },
      "execution_count": 6,
      "outputs": []
    },
    {
      "cell_type": "code",
      "source": [
        "# Function to reshape array input\n",
        "def reshape_input(array):\n",
        "  shape = array.shape\n",
        "  return array.reshape(shape[0], shape[1], 1)\n",
        "\n",
        "# Convert samples dataframe (pandas) to numpy array\n",
        "train_input = reshape_input(np.array(X_train))\n",
        "test_input = reshape_input(np.array(X_test))\n",
        "\n",
        "# Also make label data to categorical\n",
        "train_output = to_categorical(y_train, N_CLASSES)\n",
        "test_output = to_categorical(y_test, N_CLASSES)\n",
        "\n",
        "# Show the data shape\n",
        "print(f'Train features: {train_input.shape}\\nTest features: {test_input.shape}\\nTrain label: {train_output.shape}\\nTest label: {test_output.shape}')"
      ],
      "metadata": {
        "id": "Uk9ZYtuy6P0H",
        "colab": {
          "base_uri": "https://localhost:8080/"
        },
        "outputId": "73b74bf5-7f95-4ec5-a2c3-bd06f94a7837"
      },
      "execution_count": 15,
      "outputs": [
        {
          "output_type": "stream",
          "name": "stdout",
          "text": [
            "Train features: (5308, 2, 1)\n",
            "Test features: (1328, 2, 1)\n",
            "Train label: (5308, 3)\n",
            "Test label: (1328, 3)\n"
          ]
        }
      ]
    },
    {
      "cell_type": "code",
      "source": [
        "# Make model for our data\n",
        "# Input shape\n",
        "train_shape = train_input.shape\n",
        "input_shape = (train_shape[1], train_shape[2])\n",
        "\n",
        "# Model parameter\n",
        "neuron = 128\n",
        "drop = 0.1\n",
        "kernel = 1\n",
        "pool = 1\n",
        "\n",
        "# Make sequential model\n",
        "model = Sequential([\n",
        "  Input(input_shape),\n",
        "  Conv1D(neuron * 1, kernel, activation='relu'),\n",
        "  Conv1D(neuron * 1, kernel, activation='relu'),\n",
        "  MaxPooling1D(pool),\n",
        "  Dropout(drop),\n",
        "  Conv1D(neuron * 2, kernel, activation='relu'),\n",
        "  Conv1D(neuron * 2, kernel, activation='relu'),\n",
        "  MaxPooling1D(pool),\n",
        "  Dropout(drop),\n",
        "  Conv1D(neuron * 3, kernel, activation='relu'),\n",
        "  Conv1D(neuron * 3, kernel, activation='relu'),\n",
        "  MaxPooling1D(pool),\n",
        "  Dropout(drop),\n",
        "  GlobalMaxPooling1D(),\n",
        "  Dense(neuron * 3, activation='relu'),\n",
        "  Dropout(drop),\n",
        "  Dense(neuron * 1, activation='relu'),\n",
        "  Dropout(drop),\n",
        "  Dense(N_CLASSES, activation='softmax')\n",
        "])\n",
        "\n",
        "model.summary()"
      ],
      "metadata": {
        "id": "8Gn2F7h57dKs",
        "colab": {
          "base_uri": "https://localhost:8080/"
        },
        "outputId": "d31da96f-8d9d-4a50-bc13-6ee6223d440f"
      },
      "execution_count": 17,
      "outputs": [
        {
          "output_type": "stream",
          "name": "stdout",
          "text": [
            "Model: \"sequential_2\"\n",
            "_________________________________________________________________\n",
            " Layer (type)                Output Shape              Param #   \n",
            "=================================================================\n",
            " conv1d_12 (Conv1D)          (None, 2, 128)            256       \n",
            "                                                                 \n",
            " conv1d_13 (Conv1D)          (None, 2, 128)            16512     \n",
            "                                                                 \n",
            " max_pooling1d_6 (MaxPoolin  (None, 2, 128)            0         \n",
            " g1D)                                                            \n",
            "                                                                 \n",
            " dropout_10 (Dropout)        (None, 2, 128)            0         \n",
            "                                                                 \n",
            " conv1d_14 (Conv1D)          (None, 2, 256)            33024     \n",
            "                                                                 \n",
            " conv1d_15 (Conv1D)          (None, 2, 256)            65792     \n",
            "                                                                 \n",
            " max_pooling1d_7 (MaxPoolin  (None, 2, 256)            0         \n",
            " g1D)                                                            \n",
            "                                                                 \n",
            " dropout_11 (Dropout)        (None, 2, 256)            0         \n",
            "                                                                 \n",
            " conv1d_16 (Conv1D)          (None, 2, 384)            98688     \n",
            "                                                                 \n",
            " conv1d_17 (Conv1D)          (None, 2, 384)            147840    \n",
            "                                                                 \n",
            " max_pooling1d_8 (MaxPoolin  (None, 2, 384)            0         \n",
            " g1D)                                                            \n",
            "                                                                 \n",
            " dropout_12 (Dropout)        (None, 2, 384)            0         \n",
            "                                                                 \n",
            " global_max_pooling1d_2 (Gl  (None, 384)               0         \n",
            " obalMaxPooling1D)                                               \n",
            "                                                                 \n",
            " dense_6 (Dense)             (None, 384)               147840    \n",
            "                                                                 \n",
            " dropout_13 (Dropout)        (None, 384)               0         \n",
            "                                                                 \n",
            " dense_7 (Dense)             (None, 128)               49280     \n",
            "                                                                 \n",
            " dropout_14 (Dropout)        (None, 128)               0         \n",
            "                                                                 \n",
            " dense_8 (Dense)             (None, 3)                 387       \n",
            "                                                                 \n",
            "=================================================================\n",
            "Total params: 559619 (2.13 MB)\n",
            "Trainable params: 559619 (2.13 MB)\n",
            "Non-trainable params: 0 (0.00 Byte)\n",
            "_________________________________________________________________\n"
          ]
        }
      ]
    },
    {
      "cell_type": "code",
      "source": [
        "# Train the model\n",
        "\n",
        "# Compline the model\n",
        "model.compile(\n",
        "    optimizer='Adam',\n",
        "    loss='CategoricalCrossentropy',\n",
        "    metrics=['accuracy']\n",
        ")\n",
        "\n",
        "# Create callback to stop training if loss not decreasing\n",
        "model_path = PATH + 'cnn_model.h5'\n",
        "stop = [ModelCheckpoint(model_path, monitor='val_accuracy', verbose=1, save_best_only=True, mode='max'),\n",
        "        EarlyStopping(monitor='val_accuracy', patience=5)]\n",
        "\n",
        "# Fit the model\n",
        "history = model.fit(\n",
        "    x=train_input, y=train_output,\n",
        "    validation_data=(test_input, test_output),\n",
        "    batch_size=64,\n",
        "    callbacks=[stop],\n",
        "    epochs=100,\n",
        ")"
      ],
      "metadata": {
        "colab": {
          "base_uri": "https://localhost:8080/"
        },
        "id": "h9g5hAWD-rSw",
        "outputId": "b72f744c-1b98-4365-93b6-ff4c678eeb4f"
      },
      "execution_count": 18,
      "outputs": [
        {
          "output_type": "stream",
          "name": "stdout",
          "text": [
            "Epoch 1/100\n",
            "82/83 [============================>.] - ETA: 0s - loss: 0.7450 - accuracy: 0.6233\n",
            "Epoch 1: val_accuracy improved from -inf to 0.73569, saving model to /content/drive/MyDrive/cnn_model.h5\n",
            "83/83 [==============================] - 8s 40ms/step - loss: 0.7420 - accuracy: 0.6251 - val_loss: 0.5251 - val_accuracy: 0.7357\n",
            "Epoch 2/100\n",
            " 1/83 [..............................] - ETA: 3s - loss: 0.5442 - accuracy: 0.7344"
          ]
        },
        {
          "output_type": "stream",
          "name": "stderr",
          "text": [
            "/usr/local/lib/python3.10/dist-packages/keras/src/engine/training.py:3103: UserWarning: You are saving your model as an HDF5 file via `model.save()`. This file format is considered legacy. We recommend using instead the native Keras format, e.g. `model.save('my_model.keras')`.\n",
            "  saving_api.save_model(\n"
          ]
        },
        {
          "output_type": "stream",
          "name": "stdout",
          "text": [
            "82/83 [============================>.] - ETA: 0s - loss: 0.4904 - accuracy: 0.7772\n",
            "Epoch 2: val_accuracy improved from 0.73569 to 0.81099, saving model to /content/drive/MyDrive/cnn_model.h5\n",
            "83/83 [==============================] - 3s 36ms/step - loss: 0.4912 - accuracy: 0.7769 - val_loss: 0.4494 - val_accuracy: 0.8110\n",
            "Epoch 3/100\n",
            "83/83 [==============================] - ETA: 0s - loss: 0.4227 - accuracy: 0.8225\n",
            "Epoch 3: val_accuracy improved from 0.81099 to 0.86145, saving model to /content/drive/MyDrive/cnn_model.h5\n",
            "83/83 [==============================] - 3s 36ms/step - loss: 0.4227 - accuracy: 0.8225 - val_loss: 0.4713 - val_accuracy: 0.8614\n",
            "Epoch 4/100\n",
            "83/83 [==============================] - ETA: 0s - loss: 0.3534 - accuracy: 0.8544\n",
            "Epoch 4: val_accuracy improved from 0.86145 to 0.87274, saving model to /content/drive/MyDrive/cnn_model.h5\n",
            "83/83 [==============================] - 4s 53ms/step - loss: 0.3534 - accuracy: 0.8544 - val_loss: 0.3359 - val_accuracy: 0.8727\n",
            "Epoch 5/100\n",
            "82/83 [============================>.] - ETA: 0s - loss: 0.3029 - accuracy: 0.8857\n",
            "Epoch 5: val_accuracy improved from 0.87274 to 0.89985, saving model to /content/drive/MyDrive/cnn_model.h5\n",
            "83/83 [==============================] - 4s 44ms/step - loss: 0.3034 - accuracy: 0.8860 - val_loss: 0.2712 - val_accuracy: 0.8998\n",
            "Epoch 6/100\n",
            "82/83 [============================>.] - ETA: 0s - loss: 0.3146 - accuracy: 0.8744\n",
            "Epoch 6: val_accuracy improved from 0.89985 to 0.93750, saving model to /content/drive/MyDrive/cnn_model.h5\n",
            "83/83 [==============================] - 3s 35ms/step - loss: 0.3156 - accuracy: 0.8732 - val_loss: 0.2568 - val_accuracy: 0.9375\n",
            "Epoch 7/100\n",
            "83/83 [==============================] - ETA: 0s - loss: 0.2961 - accuracy: 0.8843\n",
            "Epoch 7: val_accuracy did not improve from 0.93750\n",
            "83/83 [==============================] - 3s 34ms/step - loss: 0.2961 - accuracy: 0.8843 - val_loss: 0.3082 - val_accuracy: 0.8712\n",
            "Epoch 8/100\n",
            "83/83 [==============================] - ETA: 0s - loss: 0.2815 - accuracy: 0.8885\n",
            "Epoch 8: val_accuracy did not improve from 0.93750\n",
            "83/83 [==============================] - 3s 39ms/step - loss: 0.2815 - accuracy: 0.8885 - val_loss: 0.2712 - val_accuracy: 0.9089\n",
            "Epoch 9/100\n",
            "83/83 [==============================] - ETA: 0s - loss: 0.2719 - accuracy: 0.8966\n",
            "Epoch 9: val_accuracy did not improve from 0.93750\n",
            "83/83 [==============================] - 5s 60ms/step - loss: 0.2719 - accuracy: 0.8966 - val_loss: 0.2349 - val_accuracy: 0.9096\n",
            "Epoch 10/100\n",
            "82/83 [============================>.] - ETA: 0s - loss: 0.2806 - accuracy: 0.8937\n",
            "Epoch 10: val_accuracy did not improve from 0.93750\n",
            "83/83 [==============================] - 4s 50ms/step - loss: 0.2816 - accuracy: 0.8930 - val_loss: 0.2077 - val_accuracy: 0.9337\n",
            "Epoch 11/100\n",
            "83/83 [==============================] - ETA: 0s - loss: 0.2591 - accuracy: 0.8981\n",
            "Epoch 11: val_accuracy did not improve from 0.93750\n",
            "83/83 [==============================] - 3s 34ms/step - loss: 0.2591 - accuracy: 0.8981 - val_loss: 0.2533 - val_accuracy: 0.9209\n"
          ]
        }
      ]
    },
    {
      "cell_type": "code",
      "source": [
        "# summarize history for accuracy\n",
        "plt.plot(history.history['accuracy'])\n",
        "plt.plot(history.history['val_accuracy'])\n",
        "plt.title('model accuracy')\n",
        "plt.ylabel('accuracy')\n",
        "plt.xlabel('epoch')\n",
        "plt.legend(['train', 'validation'], loc='upper left')\n",
        "plt.show()"
      ],
      "metadata": {
        "id": "KfBW_fLf_-EY",
        "colab": {
          "base_uri": "https://localhost:8080/",
          "height": 472
        },
        "outputId": "2a3da75a-7aa9-487a-c7ac-7245e44616ab"
      },
      "execution_count": 19,
      "outputs": [
        {
          "output_type": "display_data",
          "data": {
            "text/plain": [
              "<Figure size 640x480 with 1 Axes>"
            ],
            "image/png": "[encoded data removed]"
          },
          "metadata": {}
        }
      ]
    },
    {
      "cell_type": "code",
      "source": [
        "# summarize history for loss\n",
        "plt.plot(history.history['loss'])\n",
        "plt.plot(history.history['val_loss'])\n",
        "plt.title('model loss')\n",
        "plt.ylabel('loss')\n",
        "plt.xlabel('epoch')\n",
        "plt.legend(['train', 'validation'], loc='upper left')\n",
        "plt.show()"
      ],
      "metadata": {
        "colab": {
          "base_uri": "https://localhost:8080/",
          "height": 472
        },
        "id": "qaUXdkziqzDH",
        "outputId": "5a745e81-a2e7-4e74-f077-48964f787ec6"
      },
      "execution_count": 20,
      "outputs": [
        {
          "output_type": "display_data",
          "data": {
            "text/plain": [
              "<Figure size 640x480 with 1 Axes>"
            ],
            "image/png": "[encoded data removed]"
          },
          "metadata": {}
        }
      ]
    },
    {
      "cell_type": "code",
      "source": [
        "n_model = load_model(model_path)\n",
        "\n",
        "# Predict test data\n",
        "prediction = np.argmax(n_model.predict(test_input), 1).flatten()\n",
        "label      = np.argmax(test_output, 1).flatten()"
      ],
      "metadata": {
        "id": "eCfHuYJpAjn-",
        "colab": {
          "base_uri": "https://localhost:8080/"
        },
        "outputId": "8a9c4cf3-a20e-4fa8-bb95-22aad27ea95f"
      },
      "execution_count": 21,
      "outputs": [
        {
          "output_type": "stream",
          "name": "stdout",
          "text": [
            "42/42 [==============================] - 0s 5ms/step\n"
          ]
        }
      ]
    },
    {
      "cell_type": "code",
      "source": [
        "cm           = confusion_matrix(label, prediction)\n",
        "df_confusion = pd.DataFrame(cm, index = CLASSES, columns = CLASSES)\n",
        "\n",
        "sns.heatmap(df_confusion, annot=True, fmt = \"d\", cmap=plt.cm.Blues)\n",
        "plt.title('Confusion Matrix')\n",
        "plt.xlabel('Prediction Label')\n",
        "plt.ylabel('Actual Label')\n",
        "plt.show()"
      ],
      "metadata": {
        "colab": {
          "base_uri": "https://localhost:8080/",
          "height": 472
        },
        "id": "TTcPuADptY6V",
        "outputId": "5d89b712-cb31-4191-b07c-c34150e5c5b2"
      },
      "execution_count": 22,
      "outputs": [
        {
          "output_type": "display_data",
          "data": {
            "text/plain": [
              "<Figure size 640x480 with 2 Axes>"
            ],
            "image/png": "[encoded data removed]"
          },
          "metadata": {}
        }
      ]
    },
    {
      "cell_type": "code",
      "source": [
        "accuracy_  = round(accuracy_score(label, prediction)*100, 2)\n",
        "precision_ = round(precision_score(label, prediction, average='weighted')*100, 2)\n",
        "recall_    = round(recall_score(label, prediction, average='weighted')*100, 2)\n",
        "f1_score_  = round(f1_score(label, prediction, average='weighted')*100, 2)\n",
        "\n",
        "print('Accuracy  : ', accuracy_)\n",
        "print('Precision : ', precision_)\n",
        "print('Recall    : ', recall_)\n",
        "print('F1-score  : ', f1_score_)"
      ],
      "metadata": {
        "colab": {
          "base_uri": "https://localhost:8080/"
        },
        "id": "zfR8iPhlxiTl",
        "outputId": "fbfb1f79-e1b6-4405-92fb-317eaaf8eed6"
      },
      "execution_count": 23,
      "outputs": [
        {
          "output_type": "stream",
          "name": "stdout",
          "text": [
            "Accuracy  :  93.75\n",
            "Precision :  93.76\n",
            "Recall    :  93.75\n",
            "F1-score  :  93.7\n"
          ]
        }
      ]
    }
  ]
}