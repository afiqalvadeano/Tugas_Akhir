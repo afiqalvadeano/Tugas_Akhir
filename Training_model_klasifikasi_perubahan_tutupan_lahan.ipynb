{
  "nbformat": 4,
  "nbformat_minor": 0,
  "metadata": {
    "colab": {
      "provenance": []
    },
    "kernelspec": {
      "name": "python3",
      "display_name": "Python 3"
    },
    "language_info": {
      "name": "python"
    }
  },
  "cells": [
    {
      "cell_type": "code",
      "source": [
        "# Mount GDRIVE\n",
        "from google.colab import drive\n",
        "drive.mount('/content/drive')\n",
        "\n",
        "PATH = '/content/drive/MyDrive/'"
      ],
      "metadata": {
        "colab": {
          "base_uri": "https://localhost:8080/"
        },
        "id": "QtX0EzJX6EU5",
        "outputId": "ac710426-4450-4a6a-c55b-8ceeccd3b0a1"
      },
      "execution_count": 1,
      "outputs": [
        {
          "output_type": "stream",
          "name": "stdout",
          "text": [
            "Mounted at /content/drive\n"
          ]
        }
      ]
    },
    {
      "cell_type": "markdown",
      "source": [
        "## Klasifikasi"
      ],
      "metadata": {
        "id": "FDEvBMHIvslr"
      }
    },
    {
      "cell_type": "code",
      "execution_count": 2,
      "metadata": {
        "id": "n8X3zdcPnIdv"
      },
      "outputs": [],
      "source": [
        "# Import packages\n",
        "import pandas as pd\n",
        "import numpy as np\n",
        "import matplotlib\n",
        "import matplotlib.pyplot as plt\n",
        "import seaborn as sns\n",
        "from sklearn.preprocessing import LabelEncoder\n",
        "from sklearn.model_selection import train_test_split\n",
        "import tensorflow as tf\n",
        "from tensorflow.keras.utils import to_categorical\n",
        "from tensorflow.keras.models import Sequential, load_model\n",
        "from tensorflow.keras.layers import Conv1D, MaxPooling1D, Dense, Dropout, Flatten, Input, GlobalMaxPooling1D\n",
        "from tensorflow.keras.callbacks import EarlyStopping, ModelCheckpoint\n",
        "from tensorflow.keras import Model\n",
        "from sklearn.metrics import accuracy_score, confusion_matrix, precision_score, recall_score, f1_score\n",
        "np.random.seed(123)\n",
        "tf.random.set_seed(123)\n",
        "tf.keras.utils.set_random_seed(123)"
      ]
    },
    {
      "cell_type": "code",
      "source": [
        "# Parameter\n",
        "CLASSES     = ['Air', 'Lahan Terbangun', 'Vegetasi']\n",
        "N_CLASSES   = len(CLASSES)\n",
        "PALETTE     = ['#F08080', '#D2B48C', '#87CEFA']"
      ],
      "metadata": {
        "id": "2zkbZKpWoSML"
      },
      "execution_count": 3,
      "outputs": []
    },
    {
      "cell_type": "markdown",
      "source": [
        "### Preprocessing"
      ],
      "metadata": {
        "id": "guCigMcCwvnZ"
      }
    },
    {
      "cell_type": "code",
      "source": [
        "df = pd.read_csv(PATH + 'data.csv')\n",
        "df"
      ],
      "metadata": {
        "colab": {
          "base_uri": "https://localhost:8080/",
          "height": 424
        },
        "id": "AtqfLETXOsaW",
        "outputId": "d78a6571-d990-4f1c-f2c0-8f9dd86f5666"
      },
      "execution_count": 5,
      "outputs": [
        {
          "output_type": "execute_result",
          "data": {
            "text/plain": [
              "                B4           B8      NDVI     label  tahun\n",
              "0       639.000000   456.000000 -0.167123       air   2015\n",
              "1       684.000000   494.000000 -0.161290       air   2015\n",
              "2       789.000000   599.000000 -0.136888       air   2015\n",
              "3      1280.000000  1061.000000 -0.093550       air   2015\n",
              "4      1279.000000  1061.000000 -0.093162       air   2015\n",
              "...            ...          ...       ...       ...    ...\n",
              "87682  2308.500000  3638.500000  0.223642  vegetasi   2023\n",
              "87683  2170.083333  3408.333333  0.221972  vegetasi   2023\n",
              "87684  2262.666667  3647.416667  0.234303  vegetasi   2023\n",
              "87685  2257.000000  3505.000000  0.216591  vegetasi   2023\n",
              "87686  2233.000000  3595.666667  0.233787  vegetasi   2023\n",
              "\n",
              "[87687 rows x 5 columns]"
            ],
            "text/html": [
              "\n",
              "  <div id=\"df-7b804e33-1cc8-435c-90ab-f18e423744d9\" class=\"colab-df-container\">\n",
              "    <div>\n",
              "<style scoped>\n",
              "    .dataframe tbody tr th:only-of-type {\n",
              "        vertical-align: middle;\n",
              "    }\n",
              "\n",
              "    .dataframe tbody tr th {\n",
              "        vertical-align: top;\n",
              "    }\n",
              "\n",
              "    .dataframe thead th {\n",
              "        text-align: right;\n",
              "    }\n",
              "</style>\n",
              "<table border=\"1\" class=\"dataframe\">\n",
              "  <thead>\n",
              "    <tr style=\"text-align: right;\">\n",
              "      <th></th>\n",
              "      <th>B4</th>\n",
              "      <th>B8</th>\n",
              "      <th>NDVI</th>\n",
              "      <th>label</th>\n",
              "      <th>tahun</th>\n",
              "    </tr>\n",
              "  </thead>\n",
              "  <tbody>\n",
              "    <tr>\n",
              "      <th>0</th>\n",
              "      <td>639.000000</td>\n",
              "      <td>456.000000</td>\n",
              "      <td>-0.167123</td>\n",
              "      <td>air</td>\n",
              "      <td>2015</td>\n",
              "    </tr>\n",
              "    <tr>\n",
              "      <th>1</th>\n",
              "      <td>684.000000</td>\n",
              "      <td>494.000000</td>\n",
              "      <td>-0.161290</td>\n",
              "      <td>air</td>\n",
              "      <td>2015</td>\n",
              "    </tr>\n",
              "    <tr>\n",
              "      <th>2</th>\n",
              "      <td>789.000000</td>\n",
              "      <td>599.000000</td>\n",
              "      <td>-0.136888</td>\n",
              "      <td>air</td>\n",
              "      <td>2015</td>\n",
              "    </tr>\n",
              "    <tr>\n",
              "      <th>3</th>\n",
              "      <td>1280.000000</td>\n",
              "      <td>1061.000000</td>\n",
              "      <td>-0.093550</td>\n",
              "      <td>air</td>\n",
              "      <td>2015</td>\n",
              "    </tr>\n",
              "    <tr>\n",
              "      <th>4</th>\n",
              "      <td>1279.000000</td>\n",
              "      <td>1061.000000</td>\n",
              "      <td>-0.093162</td>\n",
              "      <td>air</td>\n",
              "      <td>2015</td>\n",
              "    </tr>\n",
              "    <tr>\n",
              "      <th>...</th>\n",
              "      <td>...</td>\n",
              "      <td>...</td>\n",
              "      <td>...</td>\n",
              "      <td>...</td>\n",
              "      <td>...</td>\n",
              "    </tr>\n",
              "    <tr>\n",
              "      <th>87682</th>\n",
              "      <td>2308.500000</td>\n",
              "      <td>3638.500000</td>\n",
              "      <td>0.223642</td>\n",
              "      <td>vegetasi</td>\n",
              "      <td>2023</td>\n",
              "    </tr>\n",
              "    <tr>\n",
              "      <th>87683</th>\n",
              "      <td>2170.083333</td>\n",
              "      <td>3408.333333</td>\n",
              "      <td>0.221972</td>\n",
              "      <td>vegetasi</td>\n",
              "      <td>2023</td>\n",
              "    </tr>\n",
              "    <tr>\n",
              "      <th>87684</th>\n",
              "      <td>2262.666667</td>\n",
              "      <td>3647.416667</td>\n",
              "      <td>0.234303</td>\n",
              "      <td>vegetasi</td>\n",
              "      <td>2023</td>\n",
              "    </tr>\n",
              "    <tr>\n",
              "      <th>87685</th>\n",
              "      <td>2257.000000</td>\n",
              "      <td>3505.000000</td>\n",
              "      <td>0.216591</td>\n",
              "      <td>vegetasi</td>\n",
              "      <td>2023</td>\n",
              "    </tr>\n",
              "    <tr>\n",
              "      <th>87686</th>\n",
              "      <td>2233.000000</td>\n",
              "      <td>3595.666667</td>\n",
              "      <td>0.233787</td>\n",
              "      <td>vegetasi</td>\n",
              "      <td>2023</td>\n",
              "    </tr>\n",
              "  </tbody>\n",
              "</table>\n",
              "<p>87687 rows × 5 columns</p>\n",
              "</div>\n",
              "    <div class=\"colab-df-buttons\">\n",
              "\n",
              "  <div class=\"colab-df-container\">\n",
              "    <button class=\"colab-df-convert\" onclick=\"convertToInteractive('df-7b804e33-1cc8-435c-90ab-f18e423744d9')\"\n",
              "            title=\"Convert this dataframe to an interactive table.\"\n",
              "            style=\"display:none;\">\n",
              "\n",
              "  <svg xmlns=\"http://www.w3.org/2000/svg\" height=\"24px\" viewBox=\"0 -960 960 960\">\n",
              "    <path d=\"M120-120v-720h720v720H120Zm60-500h600v-160H180v160Zm220 220h160v-160H400v160Zm0 220h160v-160H400v160ZM180-400h160v-160H180v160Zm440 0h160v-160H620v160ZM180-180h160v-160H180v160Zm440 0h160v-160H620v160Z\"/>\n",
              "  </svg>\n",
              "    </button>\n",
              "\n",
              "  <style>\n",
              "    .colab-df-container {\n",
              "      display:flex;\n",
              "      gap: 12px;\n",
              "    }\n",
              "\n",
              "    .colab-df-convert {\n",
              "      background-color: #E8F0FE;\n",
              "      border: none;\n",
              "      border-radius: 50%;\n",
              "      cursor: pointer;\n",
              "      display: none;\n",
              "      fill: #1967D2;\n",
              "      height: 32px;\n",
              "      padding: 0 0 0 0;\n",
              "      width: 32px;\n",
              "    }\n",
              "\n",
              "    .colab-df-convert:hover {\n",
              "      background-color: #E2EBFA;\n",
              "      box-shadow: 0px 1px 2px rgba(60, 64, 67, 0.3), 0px 1px 3px 1px rgba(60, 64, 67, 0.15);\n",
              "      fill: #174EA6;\n",
              "    }\n",
              "\n",
              "    .colab-df-buttons div {\n",
              "      margin-bottom: 4px;\n",
              "    }\n",
              "\n",
              "    [theme=dark] .colab-df-convert {\n",
              "      background-color: #3B4455;\n",
              "      fill: #D2E3FC;\n",
              "    }\n",
              "\n",
              "    [theme=dark] .colab-df-convert:hover {\n",
              "      background-color: #434B5C;\n",
              "      box-shadow: 0px 1px 3px 1px rgba(0, 0, 0, 0.15);\n",
              "      filter: drop-shadow(0px 1px 2px rgba(0, 0, 0, 0.3));\n",
              "      fill: #FFFFFF;\n",
              "    }\n",
              "  </style>\n",
              "\n",
              "    <script>\n",
              "      const buttonEl =\n",
              "        document.querySelector('#df-7b804e33-1cc8-435c-90ab-f18e423744d9 button.colab-df-convert');\n",
              "      buttonEl.style.display =\n",
              "        google.colab.kernel.accessAllowed ? 'block' : 'none';\n",
              "\n",
              "      async function convertToInteractive(key) {\n",
              "        const element = document.querySelector('#df-7b804e33-1cc8-435c-90ab-f18e423744d9');\n",
              "        const dataTable =\n",
              "          await google.colab.kernel.invokeFunction('convertToInteractive',\n",
              "                                                    [key], {});\n",
              "        if (!dataTable) return;\n",
              "\n",
              "        const docLinkHtml = 'Like what you see? Visit the ' +\n",
              "          '<a target=\"_blank\" href=https://colab.research.google.com/notebooks/data_table.ipynb>data table notebook</a>'\n",
              "          + ' to learn more about interactive tables.';\n",
              "        element.innerHTML = '';\n",
              "        dataTable['output_type'] = 'display_data';\n",
              "        await google.colab.output.renderOutput(dataTable, element);\n",
              "        const docLink = document.createElement('div');\n",
              "        docLink.innerHTML = docLinkHtml;\n",
              "        element.appendChild(docLink);\n",
              "      }\n",
              "    </script>\n",
              "  </div>\n",
              "\n",
              "\n",
              "<div id=\"df-3766d0fc-1cfb-4d53-a366-1f94a0185699\">\n",
              "  <button class=\"colab-df-quickchart\" onclick=\"quickchart('df-3766d0fc-1cfb-4d53-a366-1f94a0185699')\"\n",
              "            title=\"Suggest charts\"\n",
              "            style=\"display:none;\">\n",
              "\n",
              "<svg xmlns=\"http://www.w3.org/2000/svg\" height=\"24px\"viewBox=\"0 0 24 24\"\n",
              "     width=\"24px\">\n",
              "    <g>\n",
              "        <path d=\"M19 3H5c-1.1 0-2 .9-2 2v14c0 1.1.9 2 2 2h14c1.1 0 2-.9 2-2V5c0-1.1-.9-2-2-2zM9 17H7v-7h2v7zm4 0h-2V7h2v10zm4 0h-2v-4h2v4z\"/>\n",
              "    </g>\n",
              "</svg>\n",
              "  </button>\n",
              "\n",
              "<style>\n",
              "  .colab-df-quickchart {\n",
              "      --bg-color: #E8F0FE;\n",
              "      --fill-color: #1967D2;\n",
              "      --hover-bg-color: #E2EBFA;\n",
              "      --hover-fill-color: #174EA6;\n",
              "      --disabled-fill-color: #AAA;\n",
              "      --disabled-bg-color: #DDD;\n",
              "  }\n",
              "\n",
              "  [theme=dark] .colab-df-quickchart {\n",
              "      --bg-color: #3B4455;\n",
              "      --fill-color: #D2E3FC;\n",
              "      --hover-bg-color: #434B5C;\n",
              "      --hover-fill-color: #FFFFFF;\n",
              "      --disabled-bg-color: #3B4455;\n",
              "      --disabled-fill-color: #666;\n",
              "  }\n",
              "\n",
              "  .colab-df-quickchart {\n",
              "    background-color: var(--bg-color);\n",
              "    border: none;\n",
              "    border-radius: 50%;\n",
              "    cursor: pointer;\n",
              "    display: none;\n",
              "    fill: var(--fill-color);\n",
              "    height: 32px;\n",
              "    padding: 0;\n",
              "    width: 32px;\n",
              "  }\n",
              "\n",
              "  .colab-df-quickchart:hover {\n",
              "    background-color: var(--hover-bg-color);\n",
              "    box-shadow: 0 1px 2px rgba(60, 64, 67, 0.3), 0 1px 3px 1px rgba(60, 64, 67, 0.15);\n",
              "    fill: var(--button-hover-fill-color);\n",
              "  }\n",
              "\n",
              "  .colab-df-quickchart-complete:disabled,\n",
              "  .colab-df-quickchart-complete:disabled:hover {\n",
              "    background-color: var(--disabled-bg-color);\n",
              "    fill: var(--disabled-fill-color);\n",
              "    box-shadow: none;\n",
              "  }\n",
              "\n",
              "  .colab-df-spinner {\n",
              "    border: 2px solid var(--fill-color);\n",
              "    border-color: transparent;\n",
              "    border-bottom-color: var(--fill-color);\n",
              "    animation:\n",
              "      spin 1s steps(1) infinite;\n",
              "  }\n",
              "\n",
              "  @keyframes spin {\n",
              "    0% {\n",
              "      border-color: transparent;\n",
              "      border-bottom-color: var(--fill-color);\n",
              "      border-left-color: var(--fill-color);\n",
              "    }\n",
              "    20% {\n",
              "      border-color: transparent;\n",
              "      border-left-color: var(--fill-color);\n",
              "      border-top-color: var(--fill-color);\n",
              "    }\n",
              "    30% {\n",
              "      border-color: transparent;\n",
              "      border-left-color: var(--fill-color);\n",
              "      border-top-color: var(--fill-color);\n",
              "      border-right-color: var(--fill-color);\n",
              "    }\n",
              "    40% {\n",
              "      border-color: transparent;\n",
              "      border-right-color: var(--fill-color);\n",
              "      border-top-color: var(--fill-color);\n",
              "    }\n",
              "    60% {\n",
              "      border-color: transparent;\n",
              "      border-right-color: var(--fill-color);\n",
              "    }\n",
              "    80% {\n",
              "      border-color: transparent;\n",
              "      border-right-color: var(--fill-color);\n",
              "      border-bottom-color: var(--fill-color);\n",
              "    }\n",
              "    90% {\n",
              "      border-color: transparent;\n",
              "      border-bottom-color: var(--fill-color);\n",
              "    }\n",
              "  }\n",
              "</style>\n",
              "\n",
              "  <script>\n",
              "    async function quickchart(key) {\n",
              "      const quickchartButtonEl =\n",
              "        document.querySelector('#' + key + ' button');\n",
              "      quickchartButtonEl.disabled = true;  // To prevent multiple clicks.\n",
              "      quickchartButtonEl.classList.add('colab-df-spinner');\n",
              "      try {\n",
              "        const charts = await google.colab.kernel.invokeFunction(\n",
              "            'suggestCharts', [key], {});\n",
              "      } catch (error) {\n",
              "        console.error('Error during call to suggestCharts:', error);\n",
              "      }\n",
              "      quickchartButtonEl.classList.remove('colab-df-spinner');\n",
              "      quickchartButtonEl.classList.add('colab-df-quickchart-complete');\n",
              "    }\n",
              "    (() => {\n",
              "      let quickchartButtonEl =\n",
              "        document.querySelector('#df-3766d0fc-1cfb-4d53-a366-1f94a0185699 button');\n",
              "      quickchartButtonEl.style.display =\n",
              "        google.colab.kernel.accessAllowed ? 'block' : 'none';\n",
              "    })();\n",
              "  </script>\n",
              "</div>\n",
              "    </div>\n",
              "  </div>\n"
            ],
            "application/vnd.google.colaboratory.intrinsic+json": {
              "type": "dataframe",
              "variable_name": "df",
              "summary": "{\n  \"name\": \"df\",\n  \"rows\": 87687,\n  \"fields\": [\n    {\n      \"column\": \"B4\",\n      \"properties\": {\n        \"dtype\": \"number\",\n        \"std\": 868.3793809058577,\n        \"min\": 343.0,\n        \"max\": 9269.0,\n        \"num_unique_values\": 26476,\n        \"samples\": [\n          1422.25,\n          645.0,\n          3415.0\n        ],\n        \"semantic_type\": \"\",\n        \"description\": \"\"\n      }\n    },\n    {\n      \"column\": \"B8\",\n      \"properties\": {\n        \"dtype\": \"number\",\n        \"std\": 1244.297214633632,\n        \"min\": 191.0,\n        \"max\": 9207.5,\n        \"num_unique_values\": 30112,\n        \"samples\": [\n          423.7142857,\n          2384.0,\n          3665.0\n        ],\n        \"semantic_type\": \"\",\n        \"description\": \"\"\n      }\n    },\n    {\n      \"column\": \"NDVI\",\n      \"properties\": {\n        \"dtype\": \"number\",\n        \"std\": 0.20854512909733067,\n        \"min\": -0.325477448,\n        \"max\": 0.697278489,\n        \"num_unique_values\": 86797,\n        \"samples\": [\n          -0.039876553,\n          0.116776769,\n          0.191227087\n        ],\n        \"semantic_type\": \"\",\n        \"description\": \"\"\n      }\n    },\n    {\n      \"column\": \"label\",\n      \"properties\": {\n        \"dtype\": \"category\",\n        \"num_unique_values\": 3,\n        \"samples\": [\n          \"air\",\n          \"lahan terbangun\",\n          \"vegetasi\"\n        ],\n        \"semantic_type\": \"\",\n        \"description\": \"\"\n      }\n    },\n    {\n      \"column\": \"tahun\",\n      \"properties\": {\n        \"dtype\": \"number\",\n        \"std\": 2,\n        \"min\": 2015,\n        \"max\": 2023,\n        \"num_unique_values\": 9,\n        \"samples\": [\n          2022,\n          2016,\n          2020\n        ],\n        \"semantic_type\": \"\",\n        \"description\": \"\"\n      }\n    }\n  ]\n}"
            }
          },
          "metadata": {},
          "execution_count": 5
        }
      ]
    },
    {
      "cell_type": "code",
      "source": [
        "# Split data\n",
        "X = df[['B4', 'B8']] # menggunakan B4 dan B8\n",
        "y = df['label']\n",
        "\n",
        "X_train, X_test, y_train, y_test = train_test_split(X, y, test_size=0.2, random_state=42)"
      ],
      "metadata": {
        "id": "PQ_M41Sx-INh"
      },
      "execution_count": 6,
      "outputs": []
    },
    {
      "cell_type": "code",
      "source": [
        "# Label encoder\n",
        "le = LabelEncoder()\n",
        "le.fit(y_train)\n",
        "\n",
        "y_train = le.fit_transform(y_train)\n",
        "y_test  = le.fit_transform(y_test)"
      ],
      "metadata": {
        "id": "0YFvaFJexmqp"
      },
      "execution_count": 7,
      "outputs": []
    },
    {
      "cell_type": "code",
      "source": [
        "# Function to reshape array input\n",
        "def reshape_input(array):\n",
        "  shape = array.shape\n",
        "  return array.reshape(shape[0], shape[1], 1)\n",
        "\n",
        "# Convert samples dataframe (pandas) to numpy array\n",
        "train_input = reshape_input(np.array(X_train))\n",
        "test_input = reshape_input(np.array(X_test))\n",
        "\n",
        "# Also make label data to categorical\n",
        "train_output = to_categorical(y_train, N_CLASSES + 1)\n",
        "test_output = to_categorical(y_test, N_CLASSES + 1)\n",
        "\n",
        "# Show the data shape\n",
        "print(f'Train features: {train_input.shape}\\nTest features: {test_input.shape}\\nTrain label: {train_output.shape}\\nTest label: {test_output.shape}')"
      ],
      "metadata": {
        "id": "Uk9ZYtuy6P0H",
        "colab": {
          "base_uri": "https://localhost:8080/"
        },
        "outputId": "a5b867c2-63da-4947-ae78-395b6bbbca50"
      },
      "execution_count": 8,
      "outputs": [
        {
          "output_type": "stream",
          "name": "stdout",
          "text": [
            "Train features: (70149, 2, 1)\n",
            "Test features: (17538, 2, 1)\n",
            "Train label: (70149, 4)\n",
            "Test label: (17538, 4)\n"
          ]
        }
      ]
    },
    {
      "cell_type": "code",
      "source": [
        "# Make model for our data\n",
        "# Input shape\n",
        "train_shape = train_input.shape\n",
        "input_shape = (train_shape[1], train_shape[2])\n",
        "\n",
        "# Model parameter\n",
        "neuron = 128\n",
        "drop = 0.1\n",
        "kernel = 1\n",
        "pool = 1\n",
        "\n",
        "# Make sequential model\n",
        "model = Sequential([\n",
        "  Input(input_shape),\n",
        "  Conv1D(neuron * 1, kernel, activation='relu'),\n",
        "  Conv1D(neuron * 1, kernel, activation='relu'),\n",
        "  MaxPooling1D(pool),\n",
        "  Dropout(drop),\n",
        "  Conv1D(neuron * 2, kernel, activation='relu'),\n",
        "  Conv1D(neuron * 2, kernel, activation='relu'),\n",
        "  MaxPooling1D(pool),\n",
        "  Dropout(drop),\n",
        "  Conv1D(neuron * 3, kernel, activation='relu'),\n",
        "  Conv1D(neuron * 3, kernel, activation='relu'),\n",
        "  MaxPooling1D(pool),\n",
        "  Dropout(drop),\n",
        "  GlobalMaxPooling1D(),\n",
        "  Dense(neuron * 3, activation='relu'),\n",
        "  Dropout(drop),\n",
        "  Dense(neuron * 1, activation='relu'),\n",
        "  Dropout(drop),\n",
        "  Dense(N_CLASSES + 1, activation='softmax')\n",
        "])\n",
        "\n",
        "model.summary()"
      ],
      "metadata": {
        "id": "8Gn2F7h57dKs",
        "colab": {
          "base_uri": "https://localhost:8080/"
        },
        "outputId": "4b8cb3f6-f3b9-4965-c18a-cb94b9641488"
      },
      "execution_count": 9,
      "outputs": [
        {
          "output_type": "stream",
          "name": "stdout",
          "text": [
            "Model: \"sequential\"\n",
            "_________________________________________________________________\n",
            " Layer (type)                Output Shape              Param #   \n",
            "=================================================================\n",
            " conv1d (Conv1D)             (None, 2, 128)            256       \n",
            "                                                                 \n",
            " conv1d_1 (Conv1D)           (None, 2, 128)            16512     \n",
            "                                                                 \n",
            " max_pooling1d (MaxPooling1  (None, 2, 128)            0         \n",
            " D)                                                              \n",
            "                                                                 \n",
            " dropout (Dropout)           (None, 2, 128)            0         \n",
            "                                                                 \n",
            " conv1d_2 (Conv1D)           (None, 2, 256)            33024     \n",
            "                                                                 \n",
            " conv1d_3 (Conv1D)           (None, 2, 256)            65792     \n",
            "                                                                 \n",
            " max_pooling1d_1 (MaxPoolin  (None, 2, 256)            0         \n",
            " g1D)                                                            \n",
            "                                                                 \n",
            " dropout_1 (Dropout)         (None, 2, 256)            0         \n",
            "                                                                 \n",
            " conv1d_4 (Conv1D)           (None, 2, 384)            98688     \n",
            "                                                                 \n",
            " conv1d_5 (Conv1D)           (None, 2, 384)            147840    \n",
            "                                                                 \n",
            " max_pooling1d_2 (MaxPoolin  (None, 2, 384)            0         \n",
            " g1D)                                                            \n",
            "                                                                 \n",
            " dropout_2 (Dropout)         (None, 2, 384)            0         \n",
            "                                                                 \n",
            " global_max_pooling1d (Glob  (None, 384)               0         \n",
            " alMaxPooling1D)                                                 \n",
            "                                                                 \n",
            " dense (Dense)               (None, 384)               147840    \n",
            "                                                                 \n",
            " dropout_3 (Dropout)         (None, 384)               0         \n",
            "                                                                 \n",
            " dense_1 (Dense)             (None, 128)               49280     \n",
            "                                                                 \n",
            " dropout_4 (Dropout)         (None, 128)               0         \n",
            "                                                                 \n",
            " dense_2 (Dense)             (None, 4)                 516       \n",
            "                                                                 \n",
            "=================================================================\n",
            "Total params: 559748 (2.14 MB)\n",
            "Trainable params: 559748 (2.14 MB)\n",
            "Non-trainable params: 0 (0.00 Byte)\n",
            "_________________________________________________________________\n"
          ]
        }
      ]
    },
    {
      "cell_type": "code",
      "source": [
        "# Train the model\n",
        "\n",
        "# Compline the model\n",
        "model.compile(\n",
        "    optimizer='Adam',\n",
        "    loss='CategoricalCrossentropy',\n",
        "    metrics=['accuracy']\n",
        ")\n",
        "\n",
        "# Create callback to stop training if loss not decreasing\n",
        "model_path = PATH + 'cnn_model.h5'\n",
        "stop = [ModelCheckpoint(model_path, monitor='val_accuracy', verbose=1, save_best_only=True, mode='max'),\n",
        "        EarlyStopping(monitor='val_accuracy', patience=5)]\n",
        "\n",
        "# Fit the model\n",
        "history = model.fit(\n",
        "    x=train_input, y=train_output,\n",
        "    validation_data=(test_input, test_output),\n",
        "    batch_size=64,\n",
        "    callbacks=[stop],\n",
        "    epochs=100,\n",
        ")"
      ],
      "metadata": {
        "colab": {
          "base_uri": "https://localhost:8080/"
        },
        "id": "h9g5hAWD-rSw",
        "outputId": "957d7922-5d86-4e18-81c4-b519c77fe57d"
      },
      "execution_count": 10,
      "outputs": [
        {
          "output_type": "stream",
          "name": "stdout",
          "text": [
            "Epoch 1/100\n",
            "1095/1097 [============================>.] - ETA: 0s - loss: 0.8740 - accuracy: 0.7784\n",
            "Epoch 1: val_accuracy improved from -inf to 0.86601, saving model to /content/drive/MyDrive/cnn_model.h5\n",
            "1097/1097 [==============================] - 57s 47ms/step - loss: 0.8736 - accuracy: 0.7784 - val_loss: 0.4207 - val_accuracy: 0.8660\n",
            "Epoch 2/100\n"
          ]
        },
        {
          "output_type": "stream",
          "name": "stderr",
          "text": [
            "/usr/local/lib/python3.10/dist-packages/keras/src/engine/training.py:3103: UserWarning: You are saving your model as an HDF5 file via `model.save()`. This file format is considered legacy. We recommend using instead the native Keras format, e.g. `model.save('my_model.keras')`.\n",
            "  saving_api.save_model(\n"
          ]
        },
        {
          "output_type": "stream",
          "name": "stdout",
          "text": [
            "1096/1097 [============================>.] - ETA: 0s - loss: 0.3178 - accuracy: 0.8747\n",
            "Epoch 2: val_accuracy did not improve from 0.86601\n",
            "1097/1097 [==============================] - 45s 41ms/step - loss: 0.3178 - accuracy: 0.8747 - val_loss: 0.2979 - val_accuracy: 0.8517\n",
            "Epoch 3/100\n",
            "1096/1097 [============================>.] - ETA: 0s - loss: 0.2432 - accuracy: 0.9024\n",
            "Epoch 3: val_accuracy improved from 0.86601 to 0.90683, saving model to /content/drive/MyDrive/cnn_model.h5\n",
            "1097/1097 [==============================] - 47s 43ms/step - loss: 0.2432 - accuracy: 0.9024 - val_loss: 0.1898 - val_accuracy: 0.9068\n",
            "Epoch 4/100\n",
            "1096/1097 [============================>.] - ETA: 0s - loss: 0.1914 - accuracy: 0.9249\n",
            "Epoch 4: val_accuracy improved from 0.90683 to 0.94777, saving model to /content/drive/MyDrive/cnn_model.h5\n",
            "1097/1097 [==============================] - 44s 40ms/step - loss: 0.1914 - accuracy: 0.9249 - val_loss: 0.1196 - val_accuracy: 0.9478\n",
            "Epoch 5/100\n",
            "1095/1097 [============================>.] - ETA: 0s - loss: 0.1614 - accuracy: 0.9371\n",
            "Epoch 5: val_accuracy did not improve from 0.94777\n",
            "1097/1097 [==============================] - 45s 41ms/step - loss: 0.1613 - accuracy: 0.9371 - val_loss: 0.1520 - val_accuracy: 0.9355\n",
            "Epoch 6/100\n",
            "1096/1097 [============================>.] - ETA: 0s - loss: 0.1493 - accuracy: 0.9434\n",
            "Epoch 6: val_accuracy improved from 0.94777 to 0.95621, saving model to /content/drive/MyDrive/cnn_model.h5\n",
            "1097/1097 [==============================] - 46s 42ms/step - loss: 0.1493 - accuracy: 0.9434 - val_loss: 0.1180 - val_accuracy: 0.9562\n",
            "Epoch 7/100\n",
            "1095/1097 [============================>.] - ETA: 0s - loss: 0.1379 - accuracy: 0.9467\n",
            "Epoch 7: val_accuracy did not improve from 0.95621\n",
            "1097/1097 [==============================] - 45s 41ms/step - loss: 0.1378 - accuracy: 0.9467 - val_loss: 0.1592 - val_accuracy: 0.9270\n",
            "Epoch 8/100\n",
            "1095/1097 [============================>.] - ETA: 0s - loss: 0.1281 - accuracy: 0.9512\n",
            "Epoch 8: val_accuracy did not improve from 0.95621\n",
            "1097/1097 [==============================] - 45s 41ms/step - loss: 0.1282 - accuracy: 0.9511 - val_loss: 0.1287 - val_accuracy: 0.9447\n",
            "Epoch 9/100\n",
            "1095/1097 [============================>.] - ETA: 0s - loss: 0.1272 - accuracy: 0.9523\n",
            "Epoch 9: val_accuracy improved from 0.95621 to 0.96294, saving model to /content/drive/MyDrive/cnn_model.h5\n",
            "1097/1097 [==============================] - 44s 40ms/step - loss: 0.1272 - accuracy: 0.9523 - val_loss: 0.1013 - val_accuracy: 0.9629\n",
            "Epoch 10/100\n",
            "1095/1097 [============================>.] - ETA: 0s - loss: 0.1186 - accuracy: 0.9551\n",
            "Epoch 10: val_accuracy improved from 0.96294 to 0.97554, saving model to /content/drive/MyDrive/cnn_model.h5\n",
            "1097/1097 [==============================] - 45s 41ms/step - loss: 0.1186 - accuracy: 0.9551 - val_loss: 0.0832 - val_accuracy: 0.9755\n",
            "Epoch 11/100\n",
            "1096/1097 [============================>.] - ETA: 0s - loss: 0.1106 - accuracy: 0.9586\n",
            "Epoch 11: val_accuracy did not improve from 0.97554\n",
            "1097/1097 [==============================] - 44s 41ms/step - loss: 0.1106 - accuracy: 0.9586 - val_loss: 0.1265 - val_accuracy: 0.9454\n",
            "Epoch 12/100\n",
            "1096/1097 [============================>.] - ETA: 0s - loss: 0.1098 - accuracy: 0.9593\n",
            "Epoch 12: val_accuracy improved from 0.97554 to 0.97594, saving model to /content/drive/MyDrive/cnn_model.h5\n",
            "1097/1097 [==============================] - 44s 40ms/step - loss: 0.1098 - accuracy: 0.9593 - val_loss: 0.0884 - val_accuracy: 0.9759\n",
            "Epoch 13/100\n",
            "1096/1097 [============================>.] - ETA: 0s - loss: 0.1042 - accuracy: 0.9606\n",
            "Epoch 13: val_accuracy did not improve from 0.97594\n",
            "1097/1097 [==============================] - 44s 40ms/step - loss: 0.1042 - accuracy: 0.9606 - val_loss: 0.1081 - val_accuracy: 0.9568\n",
            "Epoch 14/100\n",
            "1096/1097 [============================>.] - ETA: 0s - loss: 0.1025 - accuracy: 0.9613\n",
            "Epoch 14: val_accuracy did not improve from 0.97594\n",
            "1097/1097 [==============================] - 44s 40ms/step - loss: 0.1025 - accuracy: 0.9613 - val_loss: 0.1204 - val_accuracy: 0.9475\n",
            "Epoch 15/100\n",
            "1096/1097 [============================>.] - ETA: 0s - loss: 0.1001 - accuracy: 0.9624\n",
            "Epoch 15: val_accuracy did not improve from 0.97594\n",
            "1097/1097 [==============================] - 44s 40ms/step - loss: 0.1001 - accuracy: 0.9624 - val_loss: 0.1038 - val_accuracy: 0.9601\n",
            "Epoch 16/100\n",
            "1096/1097 [============================>.] - ETA: 0s - loss: 0.0979 - accuracy: 0.9631\n",
            "Epoch 16: val_accuracy did not improve from 0.97594\n",
            "1097/1097 [==============================] - 44s 40ms/step - loss: 0.0979 - accuracy: 0.9631 - val_loss: 0.0825 - val_accuracy: 0.9685\n",
            "Epoch 17/100\n",
            "1096/1097 [============================>.] - ETA: 0s - loss: 0.0947 - accuracy: 0.9654\n",
            "Epoch 17: val_accuracy did not improve from 0.97594\n",
            "1097/1097 [==============================] - 44s 40ms/step - loss: 0.0947 - accuracy: 0.9654 - val_loss: 0.1290 - val_accuracy: 0.9438\n"
          ]
        }
      ]
    },
    {
      "cell_type": "code",
      "source": [
        "# summarize history for accuracy\n",
        "plt.plot(history.history['accuracy'])\n",
        "plt.plot(history.history['val_accuracy'])\n",
        "plt.title('model accuracy')\n",
        "plt.ylabel('accuracy')\n",
        "plt.xlabel('epoch')\n",
        "plt.legend(['train', 'validation'], loc='upper left')\n",
        "plt.show()"
      ],
      "metadata": {
        "id": "KfBW_fLf_-EY",
        "colab": {
          "base_uri": "https://localhost:8080/",
          "height": 472
        },
        "outputId": "48735d79-3f82-46c4-ca1b-5107fb6b4519"
      },
      "execution_count": 11,
      "outputs": [
        {
          "output_type": "display_data",
          "data": {
            "text/plain": [
              "<Figure size 640x480 with 1 Axes>"
            ],
            "image/png": "[encoded data removed]"
          },
          "metadata": {}
        }
      ]
    },
    {
      "cell_type": "code",
      "source": [
        "# summarize history for loss\n",
        "plt.plot(history.history['loss'])\n",
        "plt.plot(history.history['val_loss'])\n",
        "plt.title('model loss')\n",
        "plt.ylabel('loss')\n",
        "plt.xlabel('epoch')\n",
        "plt.legend(['train', 'validation'], loc='upper left')\n",
        "plt.show()"
      ],
      "metadata": {
        "colab": {
          "base_uri": "https://localhost:8080/",
          "height": 472
        },
        "id": "qaUXdkziqzDH",
        "outputId": "d9f5ff55-a4b2-4712-bd91-1cfb0498a51d"
      },
      "execution_count": 12,
      "outputs": [
        {
          "output_type": "display_data",
          "data": {
            "text/plain": [
              "<Figure size 640x480 with 1 Axes>"
            ],
            "image/png": "[encoded data removed]"
          },
          "metadata": {}
        }
      ]
    },
    {
      "cell_type": "code",
      "source": [
        "n_model = load_model(model_path)\n",
        "\n",
        "# Predict test data\n",
        "prediction = np.argmax(n_model.predict(test_input), 1).flatten()\n",
        "label      = np.argmax(test_output, 1).flatten()"
      ],
      "metadata": {
        "id": "eCfHuYJpAjn-",
        "colab": {
          "base_uri": "https://localhost:8080/"
        },
        "outputId": "bae11087-aa54-420b-838f-fe09eb21dc08"
      },
      "execution_count": 13,
      "outputs": [
        {
          "output_type": "stream",
          "name": "stdout",
          "text": [
            "549/549 [==============================] - 3s 5ms/step\n"
          ]
        }
      ]
    },
    {
      "cell_type": "code",
      "source": [
        "cm           = confusion_matrix(label, prediction)\n",
        "df_confusion = pd.DataFrame(cm, index = CLASSES, columns = CLASSES)\n",
        "\n",
        "sns.heatmap(df_confusion, annot=True, fmt = \"d\", cmap=plt.cm.Blues)\n",
        "plt.title('Confusion Matrix')\n",
        "plt.xlabel('Prediction Label')\n",
        "plt.ylabel('Actual Label')\n",
        "plt.show()"
      ],
      "metadata": {
        "colab": {
          "base_uri": "https://localhost:8080/",
          "height": 472
        },
        "id": "TTcPuADptY6V",
        "outputId": "9eff58b8-719e-487f-b70f-4660502e4a8f"
      },
      "execution_count": 14,
      "outputs": [
        {
          "output_type": "display_data",
          "data": {
            "text/plain": [
              "<Figure size 640x480 with 2 Axes>"
            ],
            "image/png": "[encoded data removed]"
          },
          "metadata": {}
        }
      ]
    },
    {
      "cell_type": "code",
      "source": [
        "accuracy_  = round(accuracy_score(label, prediction)*100, 2)\n",
        "precision_ = round(precision_score(label, prediction, average='weighted')*100, 2)\n",
        "recall_    = round(recall_score(label, prediction, average='weighted')*100, 2)\n",
        "f1_score_  = round(f1_score(label, prediction, average='weighted')*100, 2)\n",
        "\n",
        "print('Accuracy  : ', accuracy_)\n",
        "print('Precision : ', precision_)\n",
        "print('Recall    : ', recall_)\n",
        "print('F1-score  : ', f1_score_)"
      ],
      "metadata": {
        "colab": {
          "base_uri": "https://localhost:8080/"
        },
        "id": "zfR8iPhlxiTl",
        "outputId": "761f76ba-23d9-4c84-d14f-04a30d801ecc"
      },
      "execution_count": 15,
      "outputs": [
        {
          "output_type": "stream",
          "name": "stdout",
          "text": [
            "Accuracy  :  97.59\n",
            "Precision :  97.59\n",
            "Recall    :  97.59\n",
            "F1-score  :  97.55\n"
          ]
        }
      ]
    }
  ]
}